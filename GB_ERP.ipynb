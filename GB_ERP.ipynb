{
 "cells": [
  {
   "cell_type": "markdown",
   "metadata": {},
   "source": [
    "### Gradient Boosting Analysis Using ERP Data \n",
    "\n",
    "The data used in this notebook came from a dataset shared on Kaggle's website: \n",
    "\n",
    "Roach, B. (2017, November). EEG data from basic sensory task in Schizophrenia, Version 6.\n",
    "Retrieved January 24, 2019 from https://https://www.kaggle.com/broach/button-tone-sz \n",
    "\n",
    "https://www.ncbi.nlm.nih.gov/pmc/articles/PMC4059422/"
   ]
  },
  {
   "cell_type": "code",
   "execution_count": 1,
   "metadata": {},
   "outputs": [],
   "source": [
    "import pandas as pd\n",
    "import pickle\n",
    "import mne\n",
    "import matplotlib.pyplot as plt\n",
    "import sklearn\n",
    "import sklearn.model_selection\n",
    "from sklearn.ensemble import GradientBoostingClassifier\n",
    "from sklearn.metrics import classification_report"
   ]
  },
  {
   "cell_type": "markdown",
   "metadata": {},
   "source": [
    "### Load Data"
   ]
  },
  {
   "cell_type": "code",
   "execution_count": 2,
   "metadata": {},
   "outputs": [],
   "source": [
    "data = pd.read_csv('1.csv')\n",
    "data1 = pd.read_csv('10.csv')\n",
    "s1_df = pd.DataFrame(data)\n",
    "s10_df = pd.DataFrame(data1)\n",
    "\n",
    "# load metadata\n",
    "col_names = pickle.loads(b'\\x80\\x03cpandas.core.frame\\nDataFrame\\nq\\x00)\\x81q\\x01}q\\x02(X\\x05\\x00\\x00\\x00_dataq\\x03cpandas.core.internals.managers\\nBlockManager\\nq\\x04)\\x81q\\x05(]q\\x06(cpandas.core.indexes.base\\n_new_Index\\nq\\x07cpandas.core.indexes.base\\nIndex\\nq\\x08}q\\t(X\\x04\\x00\\x00\\x00dataq\\ncnumpy.core.multiarray\\n_reconstruct\\nq\\x0bcnumpy\\nndarray\\nq\\x0cK\\x00\\x85q\\rC\\x01bq\\x0e\\x87q\\x0fRq\\x10(K\\x01KJ\\x85q\\x11cnumpy\\ndtype\\nq\\x12X\\x02\\x00\\x00\\x00O8q\\x13K\\x00K\\x01\\x87q\\x14Rq\\x15(K\\x03X\\x01\\x00\\x00\\x00|q\\x16NNNJ\\xff\\xff\\xff\\xffJ\\xff\\xff\\xff\\xffK?tq\\x17b\\x89]q\\x18(X\\x07\\x00\\x00\\x00subjectq\\x19X\\x05\\x00\\x00\\x00trialq\\x1aX\\t\\x00\\x00\\x00conditionq\\x1bX\\x06\\x00\\x00\\x00sampleq\\x1cX\\x03\\x00\\x00\\x00Fp1q\\x1dX\\x03\\x00\\x00\\x00AF7q\\x1eX\\x03\\x00\\x00\\x00AF3q\\x1fX\\x02\\x00\\x00\\x00F1q X\\x02\\x00\\x00\\x00F3q!X\\x02\\x00\\x00\\x00F5q\"X\\x02\\x00\\x00\\x00F7q#X\\x03\\x00\\x00\\x00FT7q$X\\x03\\x00\\x00\\x00FC5q%X\\x03\\x00\\x00\\x00FC3q&X\\x03\\x00\\x00\\x00FC1q\\'X\\x02\\x00\\x00\\x00C1q(X\\x02\\x00\\x00\\x00C3q)X\\x02\\x00\\x00\\x00C5q*X\\x02\\x00\\x00\\x00T7q+X\\x03\\x00\\x00\\x00TP7q,X\\x03\\x00\\x00\\x00CP5q-X\\x03\\x00\\x00\\x00CP3q.X\\x03\\x00\\x00\\x00CP1q/X\\x02\\x00\\x00\\x00P1q0X\\x02\\x00\\x00\\x00P3q1X\\x02\\x00\\x00\\x00P5q2X\\x02\\x00\\x00\\x00P7q3X\\x02\\x00\\x00\\x00P9q4X\\x03\\x00\\x00\\x00PO7q5X\\x03\\x00\\x00\\x00PO3q6X\\x02\\x00\\x00\\x00O1q7X\\x02\\x00\\x00\\x00Izq8X\\x02\\x00\\x00\\x00Ozq9X\\x03\\x00\\x00\\x00POzq:X\\x02\\x00\\x00\\x00Pzq;X\\x03\\x00\\x00\\x00CPzq<X\\x03\\x00\\x00\\x00Fpzq=X\\x03\\x00\\x00\\x00Fp2q>X\\x03\\x00\\x00\\x00AF8q?X\\x03\\x00\\x00\\x00AF4q@X\\x03\\x00\\x00\\x00AFzqAX\\x02\\x00\\x00\\x00FzqBX\\x02\\x00\\x00\\x00F2qCX\\x02\\x00\\x00\\x00F4qDX\\x02\\x00\\x00\\x00F6qEX\\x02\\x00\\x00\\x00F8qFX\\x03\\x00\\x00\\x00FT8qGX\\x03\\x00\\x00\\x00FC6qHX\\x03\\x00\\x00\\x00FC4qIX\\x03\\x00\\x00\\x00FC2qJX\\x03\\x00\\x00\\x00FCzqKX\\x02\\x00\\x00\\x00CzqLX\\x02\\x00\\x00\\x00C2qMX\\x02\\x00\\x00\\x00C4qNX\\x02\\x00\\x00\\x00C6qOX\\x02\\x00\\x00\\x00T8qPX\\x03\\x00\\x00\\x00TP8qQX\\x03\\x00\\x00\\x00CP6qRX\\x03\\x00\\x00\\x00CP4qSX\\x03\\x00\\x00\\x00CP2qTX\\x02\\x00\\x00\\x00P2qUX\\x02\\x00\\x00\\x00P4qVX\\x02\\x00\\x00\\x00P6qWX\\x02\\x00\\x00\\x00P8qXX\\x03\\x00\\x00\\x00P10qYX\\x03\\x00\\x00\\x00PO8qZX\\x03\\x00\\x00\\x00PO4q[X\\x02\\x00\\x00\\x00O2q\\\\X\\x04\\x00\\x00\\x00VEOaq]X\\x04\\x00\\x00\\x00VEObq^X\\x04\\x00\\x00\\x00HEOLq_X\\x04\\x00\\x00\\x00HEORq`X\\x04\\x00\\x00\\x00NoseqaX\\x04\\x00\\x00\\x00TP10qbetqcbX\\x04\\x00\\x00\\x00nameqdNu\\x86qeRqfh\\x07h\\x08}qg(h\\nh\\x0bh\\x0cK\\x00\\x85qhh\\x0e\\x87qiRqj(K\\x01K\\x00\\x85qkh\\x15\\x89]qltqmbhdNu\\x86qnRqoe]qph\\x0bh\\x0cK\\x00\\x85qqh\\x0e\\x87qrRqs(K\\x01KJK\\x00\\x86qth\\x15\\x89]qutqvba]qwh\\x07h\\x08}qx(h\\nh\\x0bh\\x0cK\\x00\\x85qyh\\x0e\\x87qzRq{(K\\x01KJ\\x85q|h\\x15\\x89]q}(h\\x19h\\x1ah\\x1bh\\x1ch\\x1dh\\x1eh\\x1fh h!h\"h#h$h%h&h\\'h(h)h*h+h,h-h.h/h0h1h2h3h4h5h6h7h8h9h:h;h<h=h>h?h@hAhBhChDhEhFhGhHhIhJhKhLhMhNhOhPhQhRhShThUhVhWhXhYhZh[h\\\\h]h^h_h`hahbetq~bhdNu\\x86q\\x7fRq\\x80a}q\\x81X\\x06\\x00\\x00\\x000.14.1q\\x82}q\\x83(X\\x04\\x00\\x00\\x00axesq\\x84h\\x06X\\x06\\x00\\x00\\x00blocksq\\x85]q\\x86}q\\x87(X\\x06\\x00\\x00\\x00valuesq\\x88hsX\\x08\\x00\\x00\\x00mgr_locsq\\x89cbuiltins\\nslice\\nq\\x8aK\\x00KJK\\x01\\x87q\\x8bRq\\x8cuaustq\\x8dbX\\x04\\x00\\x00\\x00_typq\\x8eX\\t\\x00\\x00\\x00dataframeq\\x8fX\\t\\x00\\x00\\x00_metadataq\\x90]q\\x91ub.')\n",
    "ch_names = list(col_names.columns)\n",
    "\n",
    "s1_df.columns = ch_names\n",
    "s10_df.columns = ch_names\n",
    "s_df = s1_df.append(s10_df)\n",
    "\n"
   ]
  },
  {
   "cell_type": "markdown",
   "metadata": {},
   "source": [
    "### Clean Data"
   ]
  },
  {
   "cell_type": "code",
   "execution_count": 3,
   "metadata": {},
   "outputs": [
    {
     "data": {
      "text/plain": [
       "((174898, 74),\n",
       " Index(['subject', 'trial', 'condition', 'sample', 'AF3', 'AF4', 'AF7', 'AF8',\n",
       "        'AFz', 'C1', 'C2', 'C3', 'C4', 'C5', 'C6', 'CP1', 'CP2', 'CP3', 'CP4',\n",
       "        'CP5', 'CP6', 'CPz', 'Cz', 'F1', 'F2', 'F3', 'F4', 'F5', 'F6', 'F7',\n",
       "        'F8', 'FC1', 'FC2', 'FC3', 'FC4', 'FC5', 'FC6', 'FCz', 'FT7', 'FT8',\n",
       "        'Fp1', 'Fp2', 'Fpz', 'Fz', 'HEOL', 'HEOR', 'Iz', 'Nose', 'O1', 'O2',\n",
       "        'Oz', 'P1', 'P10', 'P2', 'P3', 'P4', 'P5', 'P6', 'P7', 'P8', 'P9',\n",
       "        'PO3', 'PO4', 'PO7', 'PO8', 'POz', 'Pz', 'T7', 'T8', 'TP10', 'TP7',\n",
       "        'TP8', 'VEOa', 'VEOb'],\n",
       "       dtype='object'))"
      ]
     },
     "execution_count": 3,
     "metadata": {},
     "output_type": "execute_result"
    }
   ],
   "source": [
    "s_df = s_df[s_df['sample'] <= 300]\n",
    "s_df = s_df.pivot_table(index=['subject', 'trial', 'condition'], columns = 'sample')\n",
    "s_df = s_df.stack().reset_index()\n",
    "s_df.shape, s_df.columns"
   ]
  },
  {
   "cell_type": "markdown",
   "metadata": {},
   "source": [
    "### Test & Evaluate Model"
   ]
  },
  {
   "cell_type": "code",
   "execution_count": 4,
   "metadata": {},
   "outputs": [
    {
     "name": "stdout",
     "output_type": "stream",
     "text": [
      "CPU times: user 1min 26s, sys: 1.2 s, total: 1min 28s\n",
      "Wall time: 1min 34s\n"
     ]
    }
   ],
   "source": [
    "%%time\n",
    "shuffled_df = s_df.sample(n=50000)\n",
    "x = shuffled_df.drop(['subject','trial', 'condition', 'sample'], axis=1)\n",
    "y = shuffled_df['condition']\n",
    "\n",
    "# split data\n",
    "x_train, x_test, y_train, y_test = sklearn.model_selection.train_test_split(x, y, test_size=0.4, random_state=1)\n",
    "\n",
    "# set classifier\n",
    "clf = sklearn.ensemble.GradientBoostingClassifier()\n",
    "\n",
    "clf.fit(x_train, y_train)\n",
    "\n",
    "# accuracy\n",
    "y_pred = clf.predict(x_test)\n",
    "accuracy_score = sklearn.metrics.accuracy_score(y_test, y_pred)\n",
    "\n",
    "# precision\n",
    "precision_score = sklearn.metrics.precision_score(y_test, y_pred, average = 'macro')\n",
    "\n",
    "# recall \n",
    "recall_score = sklearn.metrics.recall_score(y_test, y_pred, average = 'macro')\n",
    "\n",
    "# f1-score\n",
    "f1_score = sklearn.metrics.f1_score(y_test, y_pred, average='macro')"
   ]
  },
  {
   "cell_type": "markdown",
   "metadata": {},
   "source": [
    "### Report"
   ]
  },
  {
   "cell_type": "code",
   "execution_count": 5,
   "metadata": {},
   "outputs": [
    {
     "name": "stdout",
     "output_type": "stream",
     "text": [
      "              precision    recall  f1-score   support\n",
      "\n",
      "         1.0       0.75      0.72      0.74      6759\n",
      "         2.0       0.66      0.73      0.70      6582\n",
      "         3.0       0.75      0.71      0.73      6659\n",
      "\n",
      "    accuracy                           0.72     20000\n",
      "   macro avg       0.72      0.72      0.72     20000\n",
      "weighted avg       0.72      0.72      0.72     20000\n",
      "\n"
     ]
    }
   ],
   "source": [
    "# classification report\n",
    "print(classification_report(y_test, y_pred))"
   ]
  },
  {
   "cell_type": "markdown",
   "metadata": {},
   "source": [
    "### How Can the Model Be Improved?\n",
    "\n",
    "- Use a larger dataset, namely use more than 2 participants' data \n",
    "- Split the participants' data more evenly and do not use the same participants' data in the test and training sets "
   ]
  }
 ],
 "metadata": {
  "kernelspec": {
   "display_name": "Python 3",
   "language": "python",
   "name": "python3"
  },
  "language_info": {
   "codemirror_mode": {
    "name": "ipython",
    "version": 3
   },
   "file_extension": ".py",
   "mimetype": "text/x-python",
   "name": "python",
   "nbconvert_exporter": "python",
   "pygments_lexer": "ipython3",
   "version": "3.7.2"
  }
 },
 "nbformat": 4,
 "nbformat_minor": 2
}
